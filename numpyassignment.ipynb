{
  "nbformat": 4,
  "nbformat_minor": 0,
  "metadata": {
    "colab": {
      "provenance": []
    },
    "kernelspec": {
      "name": "python3",
      "display_name": "Python 3"
    },
    "language_info": {
      "name": "python"
    }
  },
  "cells": [
    {
      "cell_type": "code",
      "execution_count": 2,
      "metadata": {
        "colab": {
          "base_uri": "https://localhost:8080/"
        },
        "id": "IHsQ9TTUaOUn",
        "outputId": "66f63673-564b-464f-aa58-881d4474ccf7"
      },
      "outputs": [
        {
          "output_type": "stream",
          "name": "stdout",
          "text": [
            "[10 22 45 67 89  3  6]\n",
            "[11 23 46 68 90  4  7]\n",
            "[ 9 21 44 66 88  2  5]\n",
            "[10. 22. 45. 67. 89.  3.  6.]\n",
            "[ 20  44  90 134 178   6  12]\n"
          ]
        }
      ],
      "source": [
        "import numpy as np\n",
        "\n",
        "nA = np.array([10,22,45,67,89,3,6])    ## numpy array\n",
        "print(nA)\n",
        "\n",
        "## we can applay arithematic operations on numpy array\n",
        "## here are some\n",
        "\n",
        "print(nA + 1)    ## adding\n",
        "print(nA - 1)    ## subtracting\n",
        "print(nA / 1)    ## divide\n",
        "\n",
        "## numpy array can add itself as\n",
        "\n",
        "print(nA + nA)   ## adding array to itself"
      ]
    }
  ]
}